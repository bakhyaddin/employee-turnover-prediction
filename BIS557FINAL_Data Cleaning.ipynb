{
 "cells": [
  {
   "cell_type": "code",
   "execution_count": 1,
   "metadata": {},
   "outputs": [],
   "source": [
    "import numpy as np\n",
    "import pandas as pd\n",
    "import os\n",
    "\n",
    "#defining folderpath\n",
    "folderpath = r'C:\\Users\\TR994199\\Desktop\\data analytics proje\\FINAL' \n",
    "\n",
    "#defining filename\n",
    "filename = 'project_data_final.csv'\n",
    "\n",
    "#defining filepath as folderpath + filename\n",
    "filepath = os.path.join(folderpath, filename)\n",
    "\n",
    "#creating the dataframe from the file with StaffID column is set as Index\n",
    "dfemployee = pd.read_csv(filepath, index_col=['StaffID'])\n",
    "\n",
    "# replacing NaN values with string \"NaN\"\n",
    "dfemployee.fillna(\"NaN\", inplace=True)"
   ]
  },
  {
   "cell_type": "code",
   "execution_count": 2,
   "metadata": {},
   "outputs": [],
   "source": [
    "#data preprocessing\n",
    "from sklearn.preprocessing import LabelEncoder, OneHotEncoder\n",
    "le = LabelEncoder()\n",
    "ohe = OneHotEncoder()"
   ]
  },
  {
   "cell_type": "code",
   "execution_count": 3,
   "metadata": {},
   "outputs": [],
   "source": [
    "# assigning the whole dataFrame into a new dataFrame which is df1\n",
    "df1 = dfemployee\n",
    "\n",
    "# mapping the values of \"Status Details\" to 1 and 0 corresponging to \"Active\" and \"Alumni\" respectively\n",
    "mappingStatusDetails = {'Active': 1, 'Alumni': 0}\n",
    "df1[\"Status Details\"] = df1[\"Status Details\"].map(mappingStatusDetails)\n",
    "\n",
    "# defining Turkish citizens to 1 and the others to 0\n",
    "mappingNat = {'Turkey': 1, 'Russian Federation': 0, 'Australia': 0, 'United Kingdom': 0,'Kyrgyzstan': 0, 'United States of America': 0, 'Greece':0, 'Azerbaijan': 0, 'Germany': 0,'Romania': 0, 'Netherlands': 0, 'Austria': 0, 'Bulgaria':0}\n",
    "df1[\"Nationality\"] = df1[\"Nationality\"].map(mappingNat)\n",
    "\n",
    "# defining Level of Education between 1 and 3, 1 for Undergraduate, 2 for Graduate, 3 for Postgraduate\n",
    "mappingLoE = {'Undergraduate': 1, 'Graduate': 2, 'Postgraduate': 3}\n",
    "df1[\"Level of Education\"] = df1[\"Level of Education\"].map(mappingLoE)"
   ]
  },
  {
   "cell_type": "code",
   "execution_count": 4,
   "metadata": {},
   "outputs": [
    {
     "name": "stdout",
     "output_type": "stream",
     "text": [
      "{'Boomers', 'Generation Y', 'Generation Z', 'Generation X'}\n"
     ]
    }
   ],
   "source": [
    "# Labelling employees as Boomers, Generation X, Generation Y (Millennials), Generation Z according to their date of birth\n",
    "from datetime import date\n",
    "from datetime import datetime\n",
    "listofGenerations=[]\n",
    "for y in range(3090):\n",
    "    try:\n",
    "        birthday = df1.iloc[y, 13]\n",
    "        birthyear = datetime.strptime(birthday, '%m/%d/%Y').date()\n",
    "        \n",
    "        if(birthyear.year <= 1964):\n",
    "            listofGenerations.append('Boomers')\n",
    "        elif(birthyear.year >= 1965 and birthyear.year <= 1979):\n",
    "            listofGenerations.append('Generation X')\n",
    "        elif(birthyear.year >= 1980 and birthyear.year <= 1994):\n",
    "            listofGenerations.append('Generation Y')\n",
    "        elif(birthyear.year >= 1995):\n",
    "            listofGenerations.append('Generation Z')\n",
    "    except:\n",
    "        listofGenerations.append(\"NaN\")\n",
    "        print(\"something went wrong\")\n",
    "df1[\"Generations\"] = listofGenerations\n",
    "print(set(listofGenerations))"
   ]
  },
  {
   "cell_type": "code",
   "execution_count": 5,
   "metadata": {},
   "outputs": [],
   "source": [
    "# calculating the age of the employee at their most recent position (whether they've left the firm or currently working)\n",
    "listOfAgesAtLastPosition = []\n",
    "today = date.today()\n",
    "\n",
    "for x in range(3090):\n",
    "    try:\n",
    "        birthDay = df1.iloc[x, 13]\n",
    "        leaveDay = df1.iloc[x, 5]\n",
    "        if(birthDay != \"NaN\" and leaveDay == \"NaN\"):\n",
    "\n",
    "            birthdayTimeDate = datetime.strptime(birthDay, '%m/%d/%Y').date()\n",
    "            birthdayTimeDate.strftime('%Y-%m-%d')\n",
    "\n",
    "            listOfAgesAtLastPosition.append((round((today-birthdayTimeDate).days/365.00,2)))\n",
    "        elif(birthDay != \"NaN\" and leaveDay != \"NaN\"):\n",
    "            birthdayTimeDate = datetime.strptime(birthDay, '%m/%d/%Y').date()\n",
    "            birthdayTimeDate.strftime('%Y-%m-%d')\n",
    "\n",
    "            leaveTimeDate = datetime.strptime(leaveDay, '%m/%d/%Y').date()\n",
    "            leaveTimeDate.strftime('%Y-%m-%d')\n",
    "            \n",
    "            listOfAgesAtLastPosition.append((round((leaveTimeDate-birthdayTimeDate).days/365.00,2)))\n",
    "    except:\n",
    "        listOfAges.append(\"NaN\")\n",
    "        print(\"something went wrong\")"
   ]
  },
  {
   "cell_type": "code",
   "execution_count": 6,
   "metadata": {
    "scrolled": true
   },
   "outputs": [],
   "source": [
    "# Labelling AgesAtLastPosition as 25 & Below, Between 26-35, Between 36-45, 46 & Above\n",
    "listofAgesAtLastPositionLabels=[]\n",
    "for y in range(3090):\n",
    "    try:\n",
    "        age = listOfAgesAtLastPosition[y]\n",
    "        \n",
    "        if(age <= 25):\n",
    "            listofAgesAtLastPositionLabels.append('Age at Last Position 25 & Below')\n",
    "        elif(age > 25 and age <= 35):\n",
    "            listofAgesAtLastPositionLabels.append('Age at Last Position Between 26-35')\n",
    "        elif(age > 35 and age <= 45):\n",
    "            listofAgesAtLastPositionLabels.append('Age at Last Position Between 36-45')\n",
    "        elif(age > 45):\n",
    "            listofAgesAtLastPositionLabels.append('Age at Last Position 46 & Above')\n",
    "    except:\n",
    "        listofAgesAtLastPositionLabels.append(\"NaN\")\n",
    "        print(\"something went wrong\")\n",
    "df1[\"Age Interval at Last Position\"] = listofAgesAtLastPositionLabels"
   ]
  },
  {
   "cell_type": "code",
   "execution_count": 7,
   "metadata": {},
   "outputs": [],
   "source": [
    "# calculating the age of the employee when they entered the workfoce\n",
    "listOfAgesAtEntry = []\n",
    "today = date.today()\n",
    "\n",
    "for x in range(3090):\n",
    "    try:\n",
    "        birthDay = df1.iloc[x, 13]\n",
    "        hireDay = df1.iloc[x, 4]\n",
    "        \n",
    "        birthdayTimeDate = datetime.strptime(birthDay, '%m/%d/%Y').date()\n",
    "        birthdayTimeDate.strftime('%Y-%m-%d')\n",
    "\n",
    "        HireTimeDate = datetime.strptime(hireDay, '%m/%d/%Y').date()\n",
    "        HireTimeDate.strftime('%Y-%m-%d')\n",
    "            \n",
    "        listOfAgesAtEntry.append((round((HireTimeDate-birthdayTimeDate).days/365.00,2)))\n",
    "    except:\n",
    "        listOfAges.append(\"NaN\")\n",
    "        print(\"something went wrong\")"
   ]
  },
  {
   "cell_type": "code",
   "execution_count": 8,
   "metadata": {
    "scrolled": true
   },
   "outputs": [],
   "source": [
    "# Labelling Ages at Entry as 25 & Below, Between 26-35, Between 36-45, 46 & Above\n",
    "listOfAgesAtEntryLabels=[]\n",
    "for y in range(3090):\n",
    "    try:\n",
    "        age = listOfAgesAtEntry[y]\n",
    "        \n",
    "        if(age <= 25):\n",
    "            listOfAgesAtEntryLabels.append('Ages at Entry 25 & Below')\n",
    "        elif(age > 25 and age <= 35):\n",
    "            listOfAgesAtEntryLabels.append('Ages at Entry Between 26-35')\n",
    "        elif(age > 35 and age <= 45):\n",
    "            listOfAgesAtEntryLabels.append('Ages at Entry Between 36-45')\n",
    "        elif(age > 45):\n",
    "            listOfAgesAtEntryLabels.append('Ages at Entry 46 & Above')\n",
    "    except:\n",
    "        listOfAgesAtEntryLabels.append(\"NaN\")\n",
    "        print(\"something went wrong\")\n",
    "df1[\"Age Interval at Entry\"] = listOfAgesAtEntryLabels"
   ]
  },
  {
   "cell_type": "code",
   "execution_count": 9,
   "metadata": {},
   "outputs": [],
   "source": [
    "# getting the column names which need to be applied OneHotEncoding\n",
    "listOfColumnsForOhe = [\"Worker Type\", \"Employee Type\", \"Time Type\", \"Job Category\", \"Management Level\", \"Line of Service\", \"Cost Center Level 2\", \"Location\", \"Gender\", \"Marital Status\", \"Generations\", \"Age Interval at Last Position\", \"Age Interval at Entry\"]\n",
    "index = 0\n",
    "for i in listOfColumnsForOhe:\n",
    "    df2 = df1[i]\n",
    "    ohe.fit(df2.values.reshape(-1, 1))\n",
    "    \n",
    "    df2transformed = ohe.transform(df2.values.reshape(-1, 1))\n",
    "    dfnew = pd.DataFrame(df2transformed.toarray(), index=dfemployee.index)       \n",
    "    \n",
    "    df1 = pd.concat([df1, dfnew], axis=1)\n",
    "    index +=1"
   ]
  },
  {
   "cell_type": "code",
   "execution_count": 10,
   "metadata": {},
   "outputs": [],
   "source": [
    "# creting an Array which contains the column names for columns that are not manipulated at the beginning\n",
    "newColumnName = [\"Hire Date\", \"Leave Date\", \"Nationality\", \"Date of Birth\", \"Status Details\", \"Level of Education\",\"# of Promotions between 2019-2013\"]"
   ]
  },
  {
   "cell_type": "code",
   "execution_count": 11,
   "metadata": {},
   "outputs": [],
   "source": [
    "# reaching to the array containing OneHotEncoded column names to append to the Array which consists of all the column names\n",
    "for col in listOfColumnsForOhe:\n",
    "    array = np.sort(df1[col].unique(), axis=0)\n",
    "    refined = [\"is\"+thing for thing in array]\n",
    "    newColumnName+=refined"
   ]
  },
  {
   "cell_type": "code",
   "execution_count": 12,
   "metadata": {},
   "outputs": [],
   "source": [
    "# dropping the OneHotEncoded columns\n",
    "for col in listOfColumnsForOhe:\n",
    "    df1.drop([col], inplace =True, axis = 1)"
   ]
  },
  {
   "cell_type": "code",
   "execution_count": 13,
   "metadata": {},
   "outputs": [],
   "source": [
    "#defining the column names of the DataFrame to the Array containing the name of columns\n",
    "df1.columns = newColumnName"
   ]
  },
  {
   "cell_type": "code",
   "execution_count": 14,
   "metadata": {
    "scrolled": true
   },
   "outputs": [],
   "source": [
    "# calculating the number of months worked in the firm, \n",
    "# one for active workers and the other for leavers (Today - Date of Hire) & (Date of Leave - Date of Hire)\n",
    "\n",
    "listOfWorkMonths = []\n",
    "today = date.today()\n",
    "for x in range(3090):\n",
    "    try:\n",
    "        hireDay = df1.iloc[x, 0]\n",
    "        leaveDay = df1.iloc[x, 1]\n",
    "        if(leaveDay != \"NaN\" and hireDay != \"NaN\"):\n",
    "            hireDayTimeDate = datetime.strptime(hireDay, '%m/%d/%Y').date()\n",
    "            hireDayTimeDate.strftime('%Y-%m-%d')\n",
    "\n",
    "            leaveTimeDate = datetime.strptime(leaveDay, '%m/%d/%Y').date()\n",
    "            leaveTimeDate.strftime('%Y-%m-%d')\n",
    "            \n",
    "            listOfWorkMonths.append((leaveTimeDate-hireDayTimeDate).days/30.0)\n",
    "            \n",
    "        if(hireDay != \"NaN\" and leaveDay == \"NaN\"):\n",
    "\n",
    "            hireDayTimeDate = datetime.strptime(hireDay, '%m/%d/%Y').date()\n",
    "            hireDayTimeDate.strftime('%Y-%m-%d')\n",
    "\n",
    "            listOfWorkMonths.append((today-hireDayTimeDate).days/30.0)\n",
    "            \n",
    "    except:\n",
    "        listOfWorkMonths.append(\"NaN\")\n",
    "        print(\"something went wrong\")\n",
    "df1[\"WorkMonths\"] = listOfWorkMonths"
   ]
  },
  {
   "cell_type": "code",
   "execution_count": 15,
   "metadata": {},
   "outputs": [],
   "source": [
    "#saving the dataframe for further use\n",
    "csvName = 'theProject.csv'\n",
    "csvFile = os.path.join(folderpath, csvName)\n",
    "df1.to_csv(csvFile)"
   ]
  },
  {
   "cell_type": "code",
   "execution_count": null,
   "metadata": {},
   "outputs": [],
   "source": []
  }
 ],
 "metadata": {
  "kernelspec": {
   "display_name": "Python 3",
   "language": "python",
   "name": "python3"
  },
  "language_info": {
   "codemirror_mode": {
    "name": "ipython",
    "version": 3
   },
   "file_extension": ".py",
   "mimetype": "text/x-python",
   "name": "python",
   "nbconvert_exporter": "python",
   "pygments_lexer": "ipython3",
   "version": "3.7.3"
  }
 },
 "nbformat": 4,
 "nbformat_minor": 2
}
